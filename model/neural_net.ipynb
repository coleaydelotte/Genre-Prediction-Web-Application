{
 "cells": [
  {
   "cell_type": "code",
   "execution_count": null,
   "id": "28621e64",
   "metadata": {},
   "outputs": [],
   "source": [
    "import tensorflow as tf\n",
    "import numpy as np\n",
    "import pandas as pd\n",
    "import csv"
   ]
  },
  {
   "cell_type": "code",
   "execution_count": null,
   "id": "ce28d8b6",
   "metadata": {},
   "outputs": [],
   "source": [
    "# instantiating a tensorflow model\n",
    "model = tf.keras.Sequential()\n",
    "model.add(tf.keras.layers.Dense(64, activation='relu', input_shape=(20,)))\n",
    "model.add(tf.keras.layers.Dense(32, activation='relu'))\n",
    "model.add(tf.keras.layers.Dense(10, activation='softmax'))\n",
    "model.compile(optimizer='adam', loss='categorical_crossentropy', metrics=['accuracy'])"
   ]
  },
  {
   "cell_type": "code",
   "execution_count": null,
   "id": "e70c5d47",
   "metadata": {},
   "outputs": [],
   "source": [
    "# creating the csv\n",
    "folder = 'model/data/'\n",
    "for i in range(10):\n",
    "    filename = f\"{folder}data_part_{i}.csv\"\n",
    "    with open(filename, 'w', newline='') as csvfile:\n",
    "        writer = csv.writer(csvfile)\n",
    "        writer.writerow(['path', 'label'])\n",
    "        for _ in range(100):\n",
    "            features = np.random.rand(3)\n",
    "            label = np.random.randint(0, 10)\n",
    "            writer.writerow([*features, label])"
   ]
  }
 ],
 "metadata": {
  "kernelspec": {
   "display_name": "Python 3",
   "language": "python",
   "name": "python3"
  },
  "language_info": {
   "name": "python",
   "version": "3.12.1"
  }
 },
 "nbformat": 4,
 "nbformat_minor": 5
}
